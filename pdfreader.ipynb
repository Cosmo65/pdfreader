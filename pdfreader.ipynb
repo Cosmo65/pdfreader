{
 "cells": [
  {
   "cell_type": "markdown",
   "metadata": {},
   "source": [
    "<br>\n",
    "<br>\n",
    "<center>\n",
    "<h1>Extracting Semi-Structured Data from PDFs on a large scale</h1>\n",
    "</center>\n",
    "<br>\n",
    "Financial data is often contained in semi-structured PDFs. While many tools exist for data extraction, not all are suitable in every case. Semi-structured hereby refers to the fact that PDFs, in contrast to html, regularly contain information in varying structure: Headlines may or may not exist; the number of pages often varies along with the size and position of characters. \n",
    "\n",
    "Using insights found on a blog [post](http://www.degeneratestate.org/posts/2016/Jun/15/extracting-tabular-data-from-pdfs/), the following pages will present what the contained data looks like and consider a more general solution for extracting data from PDFs."
   ]
  },
  {
   "cell_type": "markdown",
   "metadata": {},
   "source": [
    "For reading PDF files, I am using [PDFQuery](https://github.com/jcushman/pdfquery), while the extraction of the layout is done with the help of [pdfminer](https://github.com/euske/pdfminer). PDFQuery turned out to be a lot faster (~5 times) in reading the document, while pdfminer provides the necessary tools to extract the layouts. For the scale of a few thousand documents with multiple pages, a combination of the two was the best choice. \n",
    "\n",
    "The PDF layout we are dealing with comes in the form of a LTPage object. Each page in a PDF is described by a LTPage object and the hierarchical structure of lines, boxes, rectangles etc. which it contains. For the full hierarchy look [here](https://euske.github.io/pdfminer/programming.html#layout)."
   ]
  },
  {
   "cell_type": "markdown",
   "metadata": {},
   "source": [
    "## Extract Layout and Characters\n",
    "The following code - mainly taken from the blog-post mentioned above - will extract all LTPage objects from an example document. The contents of the document are anonymized."
   ]
  },
  {
   "cell_type": "code",
   "execution_count": 1,
   "metadata": {},
   "outputs": [],
   "source": [
    "from pdfquery import PDFQuery\n",
    "\n",
    "import pdfminer\n",
    "from pdfminer.pdfpage import PDFPage, PDFTextExtractionNotAllowed\n",
    "from pdfminer.pdfinterp import PDFResourceManager, PDFPageInterpreter\n",
    "from pdfminer.layout import LAParams\n",
    "from pdfminer.converter import PDFPageAggregator\n",
    "\n",
    "import matplotlib.pyplot as plt\n",
    "from matplotlib import patches\n",
    "%matplotlib inline\n",
    "\n",
    "import pandas as pd"
   ]
  },
  {
   "cell_type": "code",
   "execution_count": 2,
   "metadata": {},
   "outputs": [
    {
     "name": "stdout",
     "output_type": "stream",
     "text": [
      "Open document data/example_anonymous.pdf\n",
      "Number of pages: 1\n"
     ]
    }
   ],
   "source": [
    "def extract_page_layouts(file):\n",
    "    \"\"\"\n",
    "    Extracts LTPage objects from a pdf file.\n",
    "    modified from: http://www.degeneratestate.org/posts/2016/Jun/15/extracting-tabular-data-from-pdfs/\n",
    "    Tests show that using PDFQuery to extract the document is ~ 5 times faster than pdfminer.\n",
    "    \"\"\"\n",
    "    laparams = LAParams()\n",
    "    \n",
    "    with open(file, mode='rb') as pdf_file:\n",
    "        print(\"Open document %s\" % pdf_file.name)\n",
    "        document = PDFQuery(pdf_file).doc\n",
    "\n",
    "        if not document.is_extractable:\n",
    "            raise PDFTextExtractionNotAllowed\n",
    "\n",
    "        rsrcmgr = PDFResourceManager()\n",
    "        device = PDFPageAggregator(rsrcmgr, laparams=laparams)\n",
    "        interpreter = PDFPageInterpreter(rsrcmgr, device)\n",
    "\n",
    "        layouts = []\n",
    "        for page in PDFPage.create_pages(document):\n",
    "            interpreter.process_page(page)\n",
    "            layouts.append(device.get_result())\n",
    "    \n",
    "    return layouts\n",
    "\n",
    "example_file = \"data/example_anonymous.pdf\"\n",
    "page_layouts = extract_page_layouts(example_file)\n",
    "print(\"Number of pages: %d\" % len(page_layouts))"
   ]
  },
  {
   "cell_type": "markdown",
   "metadata": {},
   "source": [
    "The page consists merely of lines/rectangles and text contained in the LTTextBox objects."
   ]
  },
  {
   "cell_type": "code",
   "execution_count": 3,
   "metadata": {},
   "outputs": [
    {
     "name": "stdout",
     "output_type": "stream",
     "text": [
      "<class 'pdfminer.layout.LTTextBoxHorizontal'>\n",
      "<class 'pdfminer.layout.LTRect'>\n"
     ]
    }
   ],
   "source": [
    "current_page = page_layouts[0]\n",
    "for obj in set(type(o) for o in current_page):\n",
    "    print(obj)"
   ]
  },
  {
   "cell_type": "markdown",
   "metadata": {},
   "source": [
    "The following code separates the text from the other objects and shows the first three LTTextBoxes."
   ]
  },
  {
   "cell_type": "code",
   "execution_count": 4,
   "metadata": {},
   "outputs": [
    {
     "data": {
      "text/plain": [
       "[<LTTextBoxHorizontal(0) 53.030,762.147,104.478,784.697 'Jane Doe\\nFoo Bar Ltd.\\n'>,\n",
       " <LTTextBoxHorizontal(1) 53.160,676.982,142.979,687.302 'Heading 1 is short\\n'>,\n",
       " <LTTextBoxHorizontal(2) 92.640,637.577,146.067,646.927 'Segment 1-1\\n'>]"
      ]
     },
     "execution_count": 4,
     "metadata": {},
     "output_type": "execute_result"
    }
   ],
   "source": [
    "texts = []\n",
    "rects = []\n",
    "\n",
    "# seperate text and rectangle elements\n",
    "for elem in current_page:\n",
    "    if isinstance(elem, pdfminer.layout.LTTextBoxHorizontal):\n",
    "        texts.append(elem)\n",
    "    elif isinstance(elem, pdfminer.layout.LTRect):\n",
    "        rects.append(elem)\n",
    "texts[:3]"
   ]
  },
  {
   "cell_type": "markdown",
   "metadata": {},
   "source": [
    "We could already access the text in the LTTextBoxes, but we have no idea what the structure looks like yet. So let us break it down to each individual character and visualize the document's structure."
   ]
  },
  {
   "cell_type": "markdown",
   "metadata": {},
   "source": [
    "## Visualize the PDF structure"
   ]
  },
  {
   "cell_type": "code",
   "execution_count": 5,
   "metadata": {},
   "outputs": [],
   "source": [
    "TEXT_ELEMENTS = [\n",
    "    pdfminer.layout.LTTextBox,\n",
    "    pdfminer.layout.LTTextBoxHorizontal,\n",
    "    pdfminer.layout.LTTextLine,\n",
    "    pdfminer.layout.LTTextLineHorizontal\n",
    "]\n",
    "\n",
    "def flatten(lst):\n",
    "    \"\"\"Flattens a list of lists\"\"\"\n",
    "    return [item for sublist in lst for item in sublist]\n",
    "\n",
    "def extract_characters(element):\n",
    "    \"\"\"\n",
    "    Recursively extracts individual characters from \n",
    "    text elements. \n",
    "    \"\"\"\n",
    "    if isinstance(element, pdfminer.layout.LTChar):\n",
    "        return [element]\n",
    "\n",
    "    if any(isinstance(element, i) for i in TEXT_ELEMENTS):\n",
    "        return flatten([extract_characters(e) for e in element])\n",
    "\n",
    "    if isinstance(element, list):\n",
    "        return flatten([extract_characters(l) for l in element])\n",
    "\n",
    "    return []"
   ]
  },
  {
   "cell_type": "code",
   "execution_count": 6,
   "metadata": {},
   "outputs": [],
   "source": [
    "# extract characters from texts\n",
    "characters = extract_characters(texts)"
   ]
  },
  {
   "cell_type": "markdown",
   "metadata": {},
   "source": [
    "Here comes the neat trick that Iain uses in his post to give an understanding of what the page looks like: He uses the bounding boxes describing each element in the PDF file and visualizes them."
   ]
  },
  {
   "cell_type": "code",
   "execution_count": 7,
   "metadata": {},
   "outputs": [],
   "source": [
    "def draw_rect_bbox(bbox, ax, color):\n",
    "    \"\"\"\n",
    "    Draws an unfilled rectable onto ax.\n",
    "    \"\"\"\n",
    "    x0,y0,x1,y1 = tuple(bbox)\n",
    "    ax.add_patch( \n",
    "        patches.Rectangle(\n",
    "            (x0, y0),\n",
    "            x1 - x0,\n",
    "            y1 - y0,\n",
    "            fill=False,\n",
    "            color=color\n",
    "        )    \n",
    "    )\n",
    "    \n",
    "def draw_rect(rect, ax, color=\"black\"):\n",
    "    draw_rect_bbox(rect.bbox, ax, color)"
   ]
  },
  {
   "cell_type": "code",
   "execution_count": 8,
   "metadata": {},
   "outputs": [
    {
     "data": {
      "image/png": "[encoded data removed]",
      "text/plain": [
       "<Figure size 864x611.108 with 2 Axes>"
      ]
     },
     "metadata": {
      "needs_background": "light"
     },
     "output_type": "display_data"
    }
   ],
   "source": [
    "xmin, ymin, xmax, ymax = current_page.bbox\n",
    "size = 6\n",
    "num_pages = 2\n",
    "\n",
    "fig, axes = plt.subplots(1,num_pages, figsize = (num_pages*size, size * (ymax/xmax)), sharey=True, sharex=True)\n",
    "\n",
    "# rects and chars\n",
    "ax = axes[0]\n",
    "for rect in rects:\n",
    "    draw_rect(rect, ax)\n",
    "    \n",
    "for c in characters:\n",
    "    draw_rect(c, ax, \"red\")\n",
    "\n",
    "# chars and TextBoxes\n",
    "ax = axes[1]\n",
    "for c in characters:\n",
    "    draw_rect(c, ax, \"red\")    \n",
    "\n",
    "for textbox in texts:\n",
    "    draw_rect(textbox, ax, \"blue\")\n",
    "    \n",
    "\n",
    "plt.xlim(xmin, xmax)\n",
    "plt.ylim(ymin, ymax)\n",
    "plt.show()"
   ]
  },
  {
   "cell_type": "markdown",
   "metadata": {},
   "source": [
    "On the left, I plotted all lines/rectangles and the bounding boxes of the characters. On the right, I plotted the bounding boxes of the characters and the TextBoxes. Here you can see why I talk about semi-structured data: the content of the pdf is arranged in rows and columns but there are no real separators to easily distinguish between the end of one logical entity and the beginning of another. The lines may indicate headlines but this conclusion does not seem to be consistent throughout the document. We have to find another approach in order to get this data into structure. Depending on the goal, there are several ways, each of them with its own advantages and disadvantages. By looking at the visualized document structure, I decided to approach this problem by also structuring the text row- and column-wise."
   ]
  },
  {
   "cell_type": "markdown",
   "metadata": {},
   "source": [
    "## Structuring the text data row-column-wise\n",
    "We already extracted the LTChar objects. Now we arrange them row-wise and finally look at what we are doing this for: the text."
   ]
  },
  {
   "cell_type": "code",
   "execution_count": 9,
   "metadata": {
    "scrolled": true
   },
   "outputs": [],
   "source": [
    "def arrange_text(characters):\n",
    "    \"\"\"\n",
    "    For each row find the characters in the row\n",
    "    and sort them horizontally.\n",
    "    \"\"\"\n",
    "    \n",
    "    # find unique y0 (rows) for character assignment\n",
    "    rows = sorted(list(set(c.bbox[1] for c in characters)), reverse=True)\n",
    "    \n",
    "    sorted_rows = []\n",
    "    for row in rows:\n",
    "        sorted_row = sorted([c for c in characters if c.bbox[1] == row], key=lambda c: c.bbox[0])\n",
    "        sorted_rows.append(sorted_row)\n",
    "    return sorted_rows\n",
    "\n",
    "sorted_rows = arrange_text(characters)"
   ]
  },
  {
   "cell_type": "code",
   "execution_count": 10,
   "metadata": {},
   "outputs": [
    {
     "data": {
      "text/plain": [
       "[['Jane Doe'],\n",
       " ['Foo Bar Ltd.'],\n",
       " ['Berechnung 2014'],\n",
       " ['(Calculation 2014)'],\n",
       " ['Heading 1 is short'],\n",
       " ['€'],\n",
       " ['Segment 1-1'],\n",
       " ['7PlatzhalterPlaceholder102.714,00'],\n",
       " ['/23BPlatzhalterPlaceholder505,00'],\n",
       " ['Segment 1-2'],\n",
       " ['/524PlatzhalterPlaceholder871,80'],\n",
       " ['3BPlatzhalterPlaceholder-103,34'],\n",
       " ['1AB9PlatzhalterPlaceholder1.234,83'],\n",
       " ['/XYZPlatzhalterPlaceholder-113,04'],\n",
       " ['D320PlatzhalterPlaceholder527,27'],\n",
       " ['0130PlatzhalterPlaceholder994,33'],\n",
       " ['8417PlatzhalterPlaceholder411,50'],\n",
       " ['X017PlatzhalterPlaceholder-602,50']]"
      ]
     },
     "execution_count": 10,
     "metadata": {},
     "output_type": "execute_result"
    }
   ],
   "source": [
    "def extract_text(rows):\n",
    "    row_texts = []\n",
    "    for row in rows:\n",
    "        row_text = [\"\".join([c.get_text() for c in row])]\n",
    "        row_texts.append(row_text)\n",
    "    return row_texts\n",
    "\n",
    "row_texts = extract_text(sorted_rows)\n",
    "row_texts[:18]"
   ]
  },
  {
   "cell_type": "markdown",
   "metadata": {},
   "source": [
    "This already looks readable. We appear to have some general information, a kind of identifier, descriptions in German and English and a monetary unit as well as an amount. However, this does not constitute clear data that one can put in a table or any other useful data-structure. What we need to do now is to separate the text column-wise. I wrote a little piece of code that creates a rectangle which fills the space between each column."
   ]
  },
  {
   "cell_type": "code",
   "execution_count": 11,
   "metadata": {},
   "outputs": [],
   "source": [
    "# define a margin that separates two columns\n",
    "col_margin = 0.5\n",
    "\n",
    "def create_separators(sorted_rows, margin):\n",
    "    \"\"\"Creates bounding boxes to fill the space between columns\"\"\"\n",
    "    separators = []\n",
    "    for row in sorted_rows:\n",
    "        for idx, c in enumerate(row[:-1]): \n",
    "            if (row[idx+1].bbox[0] - c.bbox[2]) > margin:\n",
    "                bbox = (c.bbox[2], c.bbox[3], row[idx+1].bbox[0], row[idx+1].bbox[1])\n",
    "                separator = pdfminer.layout.LTRect(linewidth=2, bbox=bbox)\n",
    "                separators.append(separator)\n",
    "    return separators\n",
    "\n",
    "separators = create_separators(sorted_rows, col_margin)"
   ]
  },
  {
   "cell_type": "markdown",
   "metadata": {},
   "source": [
    "Visualize the separators to check how well the code works."
   ]
  },
  {
   "cell_type": "code",
   "execution_count": 12,
   "metadata": {},
   "outputs": [
    {
     "data": {
      "image/png": "[encoded data removed]",
      "text/plain": [
       "<Figure size 432x611.108 with 1 Axes>"
      ]
     },
     "metadata": {
      "needs_background": "light"
     },
     "output_type": "display_data"
    }
   ],
   "source": [
    "xmin, ymin, xmax, ymax = current_page.bbox\n",
    "size = 6\n",
    "\n",
    "fig, ax = plt.subplots(figsize = (size, size * (ymax/xmax)))\n",
    "\n",
    "# rects and chars\n",
    "for rect in rects:\n",
    "    draw_rect(rect, ax)\n",
    "    \n",
    "for c in characters:\n",
    "    draw_rect(c, ax, \"red\")\n",
    "    \n",
    "for s in separators:\n",
    "    draw_rect(s, ax, \"blue\")\n",
    "\n",
    "plt.xlim(xmin, xmax)\n",
    "plt.ylim(ymin, ymax)\n",
    "plt.show()"
   ]
  },
  {
   "cell_type": "markdown",
   "metadata": {},
   "source": [
    "This works pretty well as a separator. Now I'm going to combine the logic of the **arrange_text()**, **extract_text()** and **create_separators()** functions to structure the text by row and column:"
   ]
  },
  {
   "cell_type": "code",
   "execution_count": 13,
   "metadata": {
    "scrolled": false
   },
   "outputs": [
    {
     "data": {
      "text/plain": [
       "[['Jane Doe'],\n",
       " ['Foo Bar Ltd.'],\n",
       " ['Berechnung 2014'],\n",
       " ['(Calculation 2014)'],\n",
       " ['Heading 1 is short'],\n",
       " [],\n",
       " ['Segment 1-1'],\n",
       " ['7', 'Platzhalter', 'Placeholder', '102.714,00'],\n",
       " ['/23B', 'Platzhalter', 'Placeholder', '505,00'],\n",
       " ['Segment 1-2'],\n",
       " ['/524', 'Platzhalter', 'Placeholder', '871,80'],\n",
       " ['3B', 'Platzhalter', 'Placeholder', '-103,34'],\n",
       " ['1AB9', 'Platzhalter', 'Placeholder', '1.234,83'],\n",
       " ['/XYZ', 'Platzhalter', 'Placeholder', '-113,04'],\n",
       " ['D320', 'Platzhalter', 'Placeholder', '527,27'],\n",
       " ['0130', 'Platzhalter', 'Placeholder', '994,33'],\n",
       " ['8417', 'Platzhalter', 'Placeholder', '411,50'],\n",
       " ['X017', 'Platzhalter', 'Placeholder', '-602,50'],\n",
       " ['Segment 1-3'],\n",
       " ['C311', 'Platzhalter', 'Placeholder', '41.384,00'],\n",
       " ['Platzhalter', 'Placeholder', '3.260,20'],\n",
       " ['Something:', '151.084,05'],\n",
       " ['Heading 2 which is actually very long, much longer than the first heading'],\n",
       " ['Segment 2-1'],\n",
       " ['Platzhalter', 'Placeholder', '1.127,40'],\n",
       " ['Something else:', '1.127,40'],\n",
       " ['Heading 3 is also a little bit longer but not as long as the second'],\n",
       " ['A027', 'Platzhalter', 'Placeholder', '40.116,93'],\n",
       " ['C039', 'Platzhalter', 'Placeholder', '4.331,35'],\n",
       " ['B987', 'Platzhalter', 'Placeholder', '3.025,95'],\n",
       " ['Sum:', '47.474,23']]"
      ]
     },
     "execution_count": 13,
     "metadata": {},
     "output_type": "execute_result"
    }
   ],
   "source": [
    "def arrange_and_extract_text(characters, margin=0.5):\n",
    "    \n",
    "    rows = sorted(list(set(c.bbox[1] for c in characters)), reverse=True)\n",
    "    \n",
    "    row_texts = []\n",
    "    for row in rows:\n",
    "        \n",
    "        sorted_row = sorted([c for c in characters if c.bbox[1] == row], key=lambda c: c.bbox[0])\n",
    "        \n",
    "        col_idx=0\n",
    "        row_text = []\n",
    "        for idx, char in enumerate(sorted_row[:-1]):\n",
    "            if (sorted_row[idx+1].bbox[0] - char.bbox[2]) > margin:\n",
    "                col_text = \"\".join([c.get_text() for c in sorted_row[col_idx:idx+1]])\n",
    "                col_idx = idx+1\n",
    "                row_text.append(col_text)\n",
    "            elif idx==len(sorted_row)-2:\n",
    "                col_text = \"\".join([c.get_text() for c in sorted_row[col_idx:]])\n",
    "                row_text.append(col_text) \n",
    "        row_texts.append(row_text)\n",
    "    return row_texts\n",
    "\n",
    "texts = arrange_and_extract_text(characters)\n",
    "texts"
   ]
  },
  {
   "cell_type": "markdown",
   "metadata": {},
   "source": [
    "Voila! Here you can see a neat row-column-structure. Note that rows containing only one character are empty. If you need those too, just add an if-statement to the **arrange_and_extract_text()** function. All you need to do now is to access the information you require. This is absolutely domain-dependent, so no generic solution exists. "
   ]
  },
  {
   "cell_type": "markdown",
   "metadata": {},
   "source": [
    "I hope you find this guide for extracting semi-structured text-data from pdf documents helpful. If you have any suggestions or remarks please send me an [email](mailto:captndata@gmail.com).\n",
    "\n",
    "For those who are interested: In the following section I will give some examples and show a few ways of how the extracted data could be stored."
   ]
  },
  {
   "cell_type": "markdown",
   "metadata": {},
   "source": [
    "# Possible storing structures"
   ]
  },
  {
   "cell_type": "markdown",
   "metadata": {},
   "source": [
    "## #1 Save the information in a pandas DataFrame object.\n",
    "The visualization of the document shows that the lines which contain the numbers in our sheet are all 3 or 4 columns long. The easiest thing you can do is to check the length of each row and add the data to a dataframe if it matches the desired length. First, I am going to define the structure by assigning some meaningful names to the columns. Afterwards, I go through every row, check the length and add the text to the dataframe accordingly."
   ]
  },
  {
   "cell_type": "code",
   "execution_count": 14,
   "metadata": {},
   "outputs": [],
   "source": [
    "columns = ['ID', 'ger_descr', 'eng_desc', 'amount']\n",
    "df = pd.DataFrame(columns=columns)"
   ]
  },
  {
   "cell_type": "code",
   "execution_count": 15,
   "metadata": {},
   "outputs": [
    {
     "data": {
      "text/html": [
       "<div>\n",
       "<style scoped>\n",
       "    .dataframe tbody tr th:only-of-type {\n",
       "        vertical-align: middle;\n",
       "    }\n",
       "\n",
       "    .dataframe tbody tr th {\n",
       "        vertical-align: top;\n",
       "    }\n",
       "\n",
       "    .dataframe thead th {\n",
       "        text-align: right;\n",
       "    }\n",
       "</style>\n",
       "<table border=\"1\" class=\"dataframe\">\n",
       "  <thead>\n",
       "    <tr style=\"text-align: right;\">\n",
       "      <th></th>\n",
       "      <th>ID</th>\n",
       "      <th>ger_descr</th>\n",
       "      <th>eng_desc</th>\n",
       "      <th>amount</th>\n",
       "    </tr>\n",
       "  </thead>\n",
       "  <tbody>\n",
       "    <tr>\n",
       "      <th>0</th>\n",
       "      <td>7</td>\n",
       "      <td>Platzhalter</td>\n",
       "      <td>Placeholder</td>\n",
       "      <td>102.714,00</td>\n",
       "    </tr>\n",
       "    <tr>\n",
       "      <th>1</th>\n",
       "      <td>/23B</td>\n",
       "      <td>Platzhalter</td>\n",
       "      <td>Placeholder</td>\n",
       "      <td>505,00</td>\n",
       "    </tr>\n",
       "    <tr>\n",
       "      <th>2</th>\n",
       "      <td>/524</td>\n",
       "      <td>Platzhalter</td>\n",
       "      <td>Placeholder</td>\n",
       "      <td>871,80</td>\n",
       "    </tr>\n",
       "    <tr>\n",
       "      <th>3</th>\n",
       "      <td>3B</td>\n",
       "      <td>Platzhalter</td>\n",
       "      <td>Placeholder</td>\n",
       "      <td>-103,34</td>\n",
       "    </tr>\n",
       "    <tr>\n",
       "      <th>4</th>\n",
       "      <td>1AB9</td>\n",
       "      <td>Platzhalter</td>\n",
       "      <td>Placeholder</td>\n",
       "      <td>1.234,83</td>\n",
       "    </tr>\n",
       "    <tr>\n",
       "      <th>5</th>\n",
       "      <td>/XYZ</td>\n",
       "      <td>Platzhalter</td>\n",
       "      <td>Placeholder</td>\n",
       "      <td>-113,04</td>\n",
       "    </tr>\n",
       "    <tr>\n",
       "      <th>6</th>\n",
       "      <td>D320</td>\n",
       "      <td>Platzhalter</td>\n",
       "      <td>Placeholder</td>\n",
       "      <td>527,27</td>\n",
       "    </tr>\n",
       "    <tr>\n",
       "      <th>7</th>\n",
       "      <td>0130</td>\n",
       "      <td>Platzhalter</td>\n",
       "      <td>Placeholder</td>\n",
       "      <td>994,33</td>\n",
       "    </tr>\n",
       "    <tr>\n",
       "      <th>8</th>\n",
       "      <td>8417</td>\n",
       "      <td>Platzhalter</td>\n",
       "      <td>Placeholder</td>\n",
       "      <td>411,50</td>\n",
       "    </tr>\n",
       "    <tr>\n",
       "      <th>9</th>\n",
       "      <td>X017</td>\n",
       "      <td>Platzhalter</td>\n",
       "      <td>Placeholder</td>\n",
       "      <td>-602,50</td>\n",
       "    </tr>\n",
       "    <tr>\n",
       "      <th>10</th>\n",
       "      <td>C311</td>\n",
       "      <td>Platzhalter</td>\n",
       "      <td>Placeholder</td>\n",
       "      <td>41.384,00</td>\n",
       "    </tr>\n",
       "    <tr>\n",
       "      <th>11</th>\n",
       "      <td>NaN</td>\n",
       "      <td>Platzhalter</td>\n",
       "      <td>Placeholder</td>\n",
       "      <td>3.260,20</td>\n",
       "    </tr>\n",
       "    <tr>\n",
       "      <th>12</th>\n",
       "      <td>NaN</td>\n",
       "      <td>Platzhalter</td>\n",
       "      <td>Placeholder</td>\n",
       "      <td>1.127,40</td>\n",
       "    </tr>\n",
       "    <tr>\n",
       "      <th>13</th>\n",
       "      <td>A027</td>\n",
       "      <td>Platzhalter</td>\n",
       "      <td>Placeholder</td>\n",
       "      <td>40.116,93</td>\n",
       "    </tr>\n",
       "    <tr>\n",
       "      <th>14</th>\n",
       "      <td>C039</td>\n",
       "      <td>Platzhalter</td>\n",
       "      <td>Placeholder</td>\n",
       "      <td>4.331,35</td>\n",
       "    </tr>\n",
       "    <tr>\n",
       "      <th>15</th>\n",
       "      <td>B987</td>\n",
       "      <td>Platzhalter</td>\n",
       "      <td>Placeholder</td>\n",
       "      <td>3.025,95</td>\n",
       "    </tr>\n",
       "  </tbody>\n",
       "</table>\n",
       "</div>"
      ],
      "text/plain": [
       "      ID    ger_descr     eng_desc      amount\n",
       "0      7  Platzhalter  Placeholder  102.714,00\n",
       "1   /23B  Platzhalter  Placeholder      505,00\n",
       "2   /524  Platzhalter  Placeholder      871,80\n",
       "3     3B  Platzhalter  Placeholder     -103,34\n",
       "4   1AB9  Platzhalter  Placeholder    1.234,83\n",
       "5   /XYZ  Platzhalter  Placeholder     -113,04\n",
       "6   D320  Platzhalter  Placeholder      527,27\n",
       "7   0130  Platzhalter  Placeholder      994,33\n",
       "8   8417  Platzhalter  Placeholder      411,50\n",
       "9   X017  Platzhalter  Placeholder     -602,50\n",
       "10  C311  Platzhalter  Placeholder   41.384,00\n",
       "11   NaN  Platzhalter  Placeholder    3.260,20\n",
       "12   NaN  Platzhalter  Placeholder    1.127,40\n",
       "13  A027  Platzhalter  Placeholder   40.116,93\n",
       "14  C039  Platzhalter  Placeholder    4.331,35\n",
       "15  B987  Platzhalter  Placeholder    3.025,95"
      ]
     },
     "execution_count": 15,
     "metadata": {},
     "output_type": "execute_result"
    }
   ],
   "source": [
    "for row in texts:\n",
    "    if len(row) == 4:\n",
    "        temp = pd.DataFrame([row], columns=columns)\n",
    "        df = df.append(temp, ignore_index=True)\n",
    "    elif len(row) == 3:\n",
    "        row = row.copy()\n",
    "        row.insert(0, float('nan'))\n",
    "        temp = pd.DataFrame([row], columns=columns)\n",
    "        df = df.append(temp, ignore_index=True)\n",
    "df"
   ]
  },
  {
   "cell_type": "markdown",
   "metadata": {},
   "source": [
    "## #2 Building a hierarchical dictionary to keep the structure\n",
    "The first part of the document contains a name, company and the issue of this document together with a year indication. I store them in the dictionary, very straightforward."
   ]
  },
  {
   "cell_type": "code",
   "execution_count": 16,
   "metadata": {},
   "outputs": [
    {
     "data": {
      "text/plain": [
       "{'Name': 'Jane Doe',\n",
       " 'Company Name': 'Foo Bar Ltd.',\n",
       " 'Issue': 'Berechnung',\n",
       " 'Year': '2014'}"
      ]
     },
     "execution_count": 16,
     "metadata": {},
     "output_type": "execute_result"
    }
   ],
   "source": [
    "data = {\n",
    "    'General Info' : {\n",
    "        'Name' : texts[0][0],\n",
    "        'Company Name' : texts[1][0],\n",
    "        'Issue' : texts[2][0][:-5],\n",
    "        'Year' : texts[2][0][-4:]\n",
    "    }\n",
    "}\n",
    "data['General Info']"
   ]
  },
  {
   "cell_type": "markdown",
   "metadata": {},
   "source": [
    "The rest of the document is divided in a kind of hierarchie: three bigger paragraphs, each of ending with some kind of sum, indicated by the over- and underlines. Each of the paragraphs has a headline for which we define labels. The first paragraph is further divided into segments for which I will define sublabels. We can easily check if the row we are processing is a label, sublabel or sum and process the rest of the text accordingly."
   ]
  },
  {
   "cell_type": "code",
   "execution_count": 17,
   "metadata": {},
   "outputs": [],
   "source": [
    "LABELS =[\n",
    "    'Heading 1 is short',\n",
    "    'Heading 2 which is actually very long, much longer than the first heading',\n",
    "    'Heading 3 is also a little bit longer but not as long as the second'\n",
    "]\n",
    "\n",
    "SUBLABELS = [\n",
    "    'Segment 1-1',\n",
    "    'Segment 1-2',\n",
    "    'Segment 1-3',\n",
    "    'Segment 2-1'\n",
    "]\n",
    "\n",
    "SUMS = [\n",
    "    'Something:',\n",
    "    'Something else:',\n",
    "    'Sum:'\n",
    "]"
   ]
  },
  {
   "cell_type": "code",
   "execution_count": 18,
   "metadata": {},
   "outputs": [],
   "source": [
    "key = None\n",
    "subkey = None\n",
    "for row in texts[4:]:\n",
    "    # assure that row isn't empty\n",
    "    if row:\n",
    "        word = row[0]\n",
    "    else:\n",
    "        continue\n",
    "    \n",
    "    if word in LABELS:\n",
    "        key = word\n",
    "        subkey = None\n",
    "        data[key] = {}\n",
    "    elif word in SUBLABELS:\n",
    "        subkey = word\n",
    "        data[key][subkey] = {}\n",
    "    elif word in SUMS:\n",
    "        data[key]['Sum'] = row[-1]\n",
    "    elif subkey:\n",
    "        ID = \" \".join(row[:-1])\n",
    "        data[key][subkey][ID] = row[-1]\n",
    "    elif key:\n",
    "        ID = \" \".join(row[:-1])\n",
    "        data[key][ID] = row[-1]"
   ]
  },
  {
   "cell_type": "markdown",
   "metadata": {},
   "source": [
    "With the dictionary one can easily access the desired data and still take the hierarchical information into account:"
   ]
  },
  {
   "cell_type": "code",
   "execution_count": 19,
   "metadata": {},
   "outputs": [
    {
     "name": "stdout",
     "output_type": "stream",
     "text": [
      "*** General Info ***\n",
      "Name\n",
      "Jane Doe \n",
      "\n",
      "Company Name\n",
      "Foo Bar Ltd. \n",
      "\n",
      "Issue\n",
      "Berechnung \n",
      "\n",
      "Year\n",
      "2014 \n",
      "\n",
      "*** Heading 1 is short ***\n",
      "Segment 1-1\n",
      "{'7 Platzhalter Placeholder': '102.714,00', '/23B Platzhalter Placeholder': '505,00'} \n",
      "\n",
      "Segment 1-2\n",
      "{'/524 Platzhalter Placeholder': '871,80', '3B Platzhalter Placeholder': '-103,34', '1AB9 Platzhalter Placeholder': '1.234,83', '/XYZ Platzhalter Placeholder': '-113,04', 'D320 Platzhalter Placeholder': '527,27', '0130 Platzhalter Placeholder': '994,33', '8417 Platzhalter Placeholder': '411,50', 'X017 Platzhalter Placeholder': '-602,50'} \n",
      "\n",
      "Segment 1-3\n",
      "{'C311 Platzhalter Placeholder': '41.384,00', 'Platzhalter Placeholder': '3.260,20'} \n",
      "\n",
      "Sum\n",
      "151.084,05 \n",
      "\n",
      "*** Heading 2 which is actually very long, much longer than the first heading ***\n",
      "Segment 2-1\n",
      "{'Platzhalter Placeholder': '1.127,40'} \n",
      "\n",
      "Sum\n",
      "1.127,40 \n",
      "\n",
      "*** Heading 3 is also a little bit longer but not as long as the second ***\n",
      "A027 Platzhalter Placeholder\n",
      "40.116,93 \n",
      "\n",
      "C039 Platzhalter Placeholder\n",
      "4.331,35 \n",
      "\n",
      "B987 Platzhalter Placeholder\n",
      "3.025,95 \n",
      "\n",
      "Sum\n",
      "47.474,23 \n",
      "\n"
     ]
    }
   ],
   "source": [
    "for label in data.keys():\n",
    "    print(\"*\"*3, label, \"*\"*3)\n",
    "    for k,v in data[label].items():\n",
    "        print(k)\n",
    "        print(v, \"\\n\")"
   ]
  }
 ],
 "metadata": {
  "kernelspec": {
   "display_name": "Python 3",
   "language": "python",
   "name": "python3"
  },
  "language_info": {
   "codemirror_mode": {
    "name": "ipython",
    "version": 3
   },
   "file_extension": ".py",
   "mimetype": "text/x-python",
   "name": "python",
   "nbconvert_exporter": "python",
   "pygments_lexer": "ipython3",
   "version": "3.8.5"
  },
  "toc": {
   "base_numbering": 1,
   "nav_menu": {},
   "number_sections": true,
   "sideBar": true,
   "skip_h1_title": true,
   "title_cell": "Table of Contents",
   "title_sidebar": "Contents",
   "toc_cell": false,
   "toc_position": {},
   "toc_section_display": true,
   "toc_window_display": false
  }
 },
 "nbformat": 4,
 "nbformat_minor": 2
}
